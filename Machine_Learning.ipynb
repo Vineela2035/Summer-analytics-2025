{
 "cells": [
  {
   "cell_type": "markdown",
   "id": "346cacad",
   "metadata": {},
   "source": [
    "Lamda Numpy Panda"
   ]
  },
  {
   "cell_type": "code",
   "execution_count": 22,
   "id": "6fabf75e",
   "metadata": {},
   "outputs": [
    {
     "name": "stdout",
     "output_type": "stream",
     "text": [
      "[[0. 0. 0.]\n",
      " [0. 0. 0.]]\n",
      "[[[1 1 1]\n",
      "  [1 1 1]\n",
      "  [1 1 1]]\n",
      "\n",
      " [[1 1 1]\n",
      "  [1 1 1]\n",
      "  [1 1 1]]]\n",
      "[[99 99]\n",
      " [99 99]]\n"
     ]
    }
   ],
   "source": [
    "import numpy as np\n",
    "#All 0's Matrix\n",
    "a=np.zeros((2,3))\n",
    "print(a)\n",
    "#All 1's Matrix\n",
    "b=np.ones((2,3,3),dtype='int')\n",
    "print(b)\n",
    "#Any other number\n",
    "c=np.full((2,2),99)\n",
    "print(c)"
   ]
  }
 ],
 "metadata": {
  "kernelspec": {
   "display_name": "Python 3",
   "language": "python",
   "name": "python3"
  },
  "language_info": {
   "codemirror_mode": {
    "name": "ipython",
    "version": 3
   },
   "file_extension": ".py",
   "mimetype": "text/x-python",
   "name": "python",
   "nbconvert_exporter": "python",
   "pygments_lexer": "ipython3",
   "version": "3.12.1"
  }
 },
 "nbformat": 4,
 "nbformat_minor": 5
}
